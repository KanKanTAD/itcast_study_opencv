{
 "cells": [
  {
   "cell_type": "code",
   "execution_count": 1,
   "metadata": {},
   "outputs": [],
   "source": [
    "import numpy as np\n",
    "import open3d as o3d\n",
    "import sympy as sp\n",
    "from open3d import JVisualizer\n",
    "import copy"
   ]
  },
  {
   "cell_type": "code",
   "execution_count": 2,
   "metadata": {},
   "outputs": [],
   "source": [
    "w11,w12,w13,w21,w22,w23,w31,w32,w33 = sp.symbols('w11,w12,w13,w21,w22,w23,w31,w32,w33')"
   ]
  },
  {
   "cell_type": "code",
   "execution_count": 3,
   "metadata": {},
   "outputs": [],
   "source": [
    "x,y,z = sp.symbols('x,y,z')"
   ]
  },
  {
   "cell_type": "code",
   "execution_count": 4,
   "metadata": {},
   "outputs": [],
   "source": [
    "x_p,y_p,z_p = sp.symbols('x_p,y_p,z_p')"
   ]
  },
  {
   "cell_type": "code",
   "execution_count": 5,
   "metadata": {},
   "outputs": [],
   "source": [
    "t1 = w11 * x + w12 * y + w13 * z - x_p\n",
    "t2 = w21 * x + w22 * y + w23 * z - y_p\n",
    "t3 = w31 * x + w32 * y + w33 * z - z_p"
   ]
  },
  {
   "cell_type": "code",
   "execution_count": 6,
   "metadata": {},
   "outputs": [
    {
     "data": {
      "text/latex": [
       "$\\displaystyle \\left(\\left(w_{11} x + w_{12} y + w_{13} z - x_{p}\\right)^{2} + \\left(w_{21} x + w_{22} y + w_{23} z - y_{p}\\right)^{2} + \\left(w_{31} x + w_{32} y + w_{33} z - z_{p}\\right)^{2}\\right)^{0.5}$"
      ],
      "text/plain": [
       "((w11*x + w12*y + w13*z - x_p)**2 + (w21*x + w22*y + w23*z - y_p)**2 + (w31*x + w32*y + w33*z - z_p)**2)**0.5"
      ]
     },
     "execution_count": 6,
     "metadata": {},
     "output_type": "execute_result"
    }
   ],
   "source": [
    "d = (t1**2 + t2**2 + t3**2)**0.5\n",
    "d"
   ]
  },
  {
   "cell_type": "code",
   "execution_count": 7,
   "metadata": {},
   "outputs": [
    {
     "data": {
      "text/latex": [
       "$\\displaystyle \\frac{1.0 x \\left(w_{11} x + w_{12} y + w_{13} z - x_{p}\\right)}{\\left(\\left(w_{11} x + w_{12} y + w_{13} z - x_{p}\\right)^{2} + \\left(w_{21} x + w_{22} y + w_{23} z - y_{p}\\right)^{2} + \\left(w_{31} x + w_{32} y + w_{33} z - z_{p}\\right)^{2}\\right)^{0.5}}$"
      ],
      "text/plain": [
       "1.0*x*((w11*x + w12*y + w13*z - x_p)**2 + (w21*x + w22*y + w23*z - y_p)**2 + (w31*x + w32*y + w33*z - z_p)**2)**(-0.5)*(w11*x + w12*y + w13*z - x_p)"
      ]
     },
     "execution_count": 7,
     "metadata": {},
     "output_type": "execute_result"
    }
   ],
   "source": [
    "sp.diff(d,w11)"
   ]
  },
  {
   "cell_type": "code",
   "execution_count": 8,
   "metadata": {},
   "outputs": [],
   "source": [
    "def error(W,X,X_prime):\n",
    "    y = np.matmul(X,W.T) - X_prime\n",
    "    return np.dot(y,y)\n",
    "\n",
    "def slop_error(W,X,X_prime):\n",
    "    w1 = W[0,:]\n",
    "    w2 = W[1,:]\n",
    "    w3 = W[2,:]\n",
    "    r1 = np.dot(w1,X) - X_prime[0]\n",
    "    r2 = np.dot(w2,X) - X_prime[1]\n",
    "    r3 = np.dot(w3,X) - X_prime[2]\n",
    "    w = np.row_stack((X * r1,X * r2,X * r3))\n",
    "    w /= error(W,X,X_prime)\n",
    "    return w"
   ]
  },
  {
   "cell_type": "code",
   "execution_count": 9,
   "metadata": {},
   "outputs": [],
   "source": [
    "def trans_form(T,source_pts):\n",
    "    res_pts = []\n",
    "    for p in source_pts:\n",
    "        res_pts.append(np.dot(p,T.T))\n",
    "    return np.array(res_pts)"
   ]
  },
  {
   "cell_type": "code",
   "execution_count": 19,
   "metadata": {},
   "outputs": [
    {
     "name": "stdout",
     "output_type": "stream",
     "text": [
      "[[ 0.58778525 -0.80901699  0.        ]\n",
      " [ 0.80901699  0.58778525  0.        ]\n",
      " [ 0.          0.          1.        ]]\n"
     ]
    }
   ],
   "source": [
    "file_path = '/home/tad/Picture/pcl-pcd/bunny.pcd'\n",
    "\n",
    "cld = o3d.io.read_point_cloud(file_path)\n",
    "cld.paint_uniform_color([0,0,1.0])\n",
    "\n",
    "\n",
    "pts1 = np.asarray(cld.points)\n",
    "\n",
    "trans = np.array([[np.cos(np.pi * 0.3),-np.sin(np.pi*0.3),0],\n",
    "                  [np.sin(np.pi*0.3),np.cos(np.pi * 0.3),0],\n",
    "                  [0,0,1]])\n",
    "print(trans)\n",
    "cld1 = o3d.geometry.PointCloud()\n",
    "cld1.points = o3d.utility.Vector3dVector(trans_form(trans,pts1))\n",
    "cld1.paint_uniform_color([1,0,0])"
   ]
  },
  {
   "cell_type": "code",
   "execution_count": 18,
   "metadata": {},
   "outputs": [
    {
     "data": {
      "application/vnd.jupyter.widget-view+json": {
       "model_id": "ecd637d07c8c4e7094e36b815d000c54",
       "version_major": 2,
       "version_minor": 0
      },
      "text/plain": [
       "JVisualizer with 3 geometries"
      ]
     },
     "metadata": {},
     "output_type": "display_data"
    },
    {
     "name": "stdout",
     "output_type": "stream",
     "text": [
      "[[ 0.59315399 -0.8093381  -0.0117686 ]\n",
      " [ 0.81375546  0.58914268 -0.00349174]\n",
      " [ 0.04540358  0.01786538  0.98695977]]\n"
     ]
    }
   ],
   "source": [
    "source_X = np.asarray(cld.points)\n",
    "tag_X = np.asarray(cld1.points)\n",
    "lz = min(len(source_X),len(tag_X))\n",
    "\n",
    "w = np.random.normal(0,1,(3,3))\n",
    "lr = 0.00003\n",
    "epochs = 3000\n",
    "for _ in range(epochs):\n",
    "    for i in range(lz):\n",
    "        delta_w = slop_error(w,source_X[i,:],tag_X[i,:])\n",
    "        w -= lr * delta_w\n",
    "\n",
    "cld3 = o3d.geometry.PointCloud()\n",
    "cld3.points = o3d.utility.Vector3dVector(trans_form(w,pts1))\n",
    "cld3.paint_uniform_color([0,1,0])\n",
    "vis = JVisualizer()\n",
    "vis.add_geometry(cld)\n",
    "vis.add_geometry(cld1)\n",
    "vis.add_geometry(cld3)\n",
    "vis.show()\n",
    "print(w)"
   ]
  },
  {
   "cell_type": "code",
   "execution_count": null,
   "metadata": {},
   "outputs": [],
   "source": []
  },
  {
   "cell_type": "code",
   "execution_count": null,
   "metadata": {},
   "outputs": [],
   "source": []
  },
  {
   "cell_type": "code",
   "execution_count": null,
   "metadata": {},
   "outputs": [],
   "source": []
  },
  {
   "cell_type": "code",
   "execution_count": null,
   "metadata": {},
   "outputs": [],
   "source": []
  }
 ],
 "metadata": {
  "kernelspec": {
   "display_name": "Python 3",
   "language": "python",
   "name": "python3"
  },
  "language_info": {
   "codemirror_mode": {
    "name": "ipython",
    "version": 3
   },
   "file_extension": ".py",
   "mimetype": "text/x-python",
   "name": "python",
   "nbconvert_exporter": "python",
   "pygments_lexer": "ipython3",
   "version": "3.6.11"
  }
 },
 "nbformat": 4,
 "nbformat_minor": 4
}
