{
 "cells": [
  {
   "cell_type": "code",
   "execution_count": null,
   "metadata": {},
   "outputs": [
    {
     "name": "stdout",
     "output_type": "stream",
     "text": [
      "Collecting baselines\n",
      "  Downloading baselines-0.1.5.tar.gz (123 kB)\n",
      "\u001b[K     |████████████████████████████████| 123 kB 5.6 kB/s eta 0:00:01\n",
      "\u001b[?25hRequirement already satisfied: gym[atari,classic_control,mujoco,robotics] in /home/tad/PythonVirtualEnvs/py36cv34/lib/python3.6/site-packages (from baselines) (0.17.2)\n",
      "Requirement already satisfied: scipy in /home/tad/PythonVirtualEnvs/py36cv34/lib/python3.6/site-packages (from baselines) (1.5.2)\n",
      "Collecting tqdm\n",
      "  Downloading tqdm-4.48.2-py2.py3-none-any.whl (68 kB)\n",
      "\u001b[K     |████████████████████████████████| 68 kB 15 kB/s eta 0:00:01\n",
      "\u001b[?25hRequirement already satisfied: joblib in /home/tad/PythonVirtualEnvs/py36cv34/lib/python3.6/site-packages (from baselines) (0.16.0)\n",
      "Collecting zmq\n",
      "  Downloading zmq-0.0.0.tar.gz (966 bytes)\n",
      "Collecting dill\n",
      "  Downloading dill-0.3.2.zip (177 kB)\n",
      "\u001b[K     |████████████████████████████████| 177 kB 15 kB/s eta 0:00:01\n",
      "\u001b[?25hCollecting progressbar2\n",
      "  Downloading progressbar2-3.51.4-py2.py3-none-any.whl (25 kB)\n",
      "Collecting mpi4py\n",
      "  Downloading mpi4py-3.0.3.tar.gz (1.4 MB)\n",
      "\u001b[K     |████████████████████████████████| 1.4 MB 12 kB/s eta 0:00:016\n",
      "\u001b[?25hRequirement already satisfied: cloudpickle in /home/tad/PythonVirtualEnvs/py36cv34/lib/python3.6/site-packages (from baselines) (1.3.0)\n",
      "Collecting tensorflow>=1.4.0\n",
      "  Downloading tensorflow-2.3.0-cp36-cp36m-manylinux2010_x86_64.whl (320.4 MB)\n",
      "\u001b[K     |▏                               | 1.2 MB 18 kB/s eta 4:48:433108:33"
     ]
    }
   ],
   "source": [
    "!pip install baselines"
   ]
  },
  {
   "cell_type": "code",
   "execution_count": null,
   "metadata": {},
   "outputs": [],
   "source": [
    "import numpy as np\n",
    "import gym\n",
    "import pickle"
   ]
  },
  {
   "cell_type": "code",
   "execution_count": null,
   "metadata": {},
   "outputs": [],
   "source": [
    "env_list = ['Pendulum v0','CartPole-v1']"
   ]
  },
  {
   "cell_type": "code",
   "execution_count": null,
   "metadata": {},
   "outputs": [],
   "source": [
    "env = gym.make(env_list[1])\n",
    "observation = env.reset()\n",
    "for _ in range(1000):\n",
    "  env.render()\n",
    "  action = env.action_space.sample() # your agent here (this takes random actions)\n",
    "  observation, reward, done, info = env.step(action)\n",
    "\n",
    "  if done:\n",
    "    observation = env.reset()\n",
    "env.close()"
   ]
  },
  {
   "cell_type": "code",
   "execution_count": null,
   "metadata": {},
   "outputs": [],
   "source": []
  },
  {
   "cell_type": "code",
   "execution_count": null,
   "metadata": {},
   "outputs": [],
   "source": []
  },
  {
   "cell_type": "code",
   "execution_count": null,
   "metadata": {},
   "outputs": [],
   "source": []
  }
 ],
 "metadata": {
  "kernelspec": {
   "display_name": "Python 3",
   "language": "python",
   "name": "python3"
  },
  "language_info": {
   "codemirror_mode": {
    "name": "ipython",
    "version": 3
   },
   "file_extension": ".py",
   "mimetype": "text/x-python",
   "name": "python",
   "nbconvert_exporter": "python",
   "pygments_lexer": "ipython3",
   "version": "3.6.11"
  }
 },
 "nbformat": 4,
 "nbformat_minor": 4
}
